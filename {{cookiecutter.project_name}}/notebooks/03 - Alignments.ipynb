{
 "cells": [
  {
   "cell_type": "code",
   "execution_count": null,
   "metadata": {},
   "outputs": [],
   "source": [
    "%run ../config/init.py"
   ]
  },
  {
   "cell_type": "markdown",
   "metadata": {},
   "source": [
    "### Creating results folders"
   ]
  },
  {
   "cell_type": "code",
   "execution_count": null,
   "metadata": {},
   "outputs": [],
   "source": [
    "data_dir = os.path.join(RESULTS, DATASET, 'trimmomatic')\n",
    "result_dir = working_dir(os.path.join(RESULTS, DATASET, 'alignments'))\n",
    "sample_table_file = os.path.join(DATA, DATASET, 'sample_table.csv')\n",
    "sample_table = pandas.read_csv(sample_table_file, keep_default_na=False)\n",
    "sample_table.head()"
   ]
  },
  {
   "cell_type": "markdown",
   "source": [
    "### Creating Genome indexes if they don't exists"
   ],
   "metadata": {
    "collapsed": false,
    "pycharm": {
     "name": "#%% md\n"
    }
   }
  },
  {
   "cell_type": "code",
   "execution_count": null,
   "outputs": [],
   "source": [
    "if not os.path.exists(GENOME):\n",
    "    working_dir(GENOME)\n",
    "    !curl -o {GENOME_NAME}.tar.gz https://ftp.ncbi.nlm.nih.gov/pub/pm4ngs/resources/{GENOME_NAME}.tar.gz\n",
    "    !tar xzfv {GENOME_NAME}.tar.gz --strip 1\n",
    "    !rm {GENOME_NAME}.tar.gz\n",
    "    working_dir(ALIGNER_INDEX)\n",
    "    log_file = 'bwa_index.log'\n",
    "    index_cmd = '{0} {1}/bwa/bwa-index.cwl --sequences {2} > index.log 2>&1 &'.format(CWLRUNNER, CWLTOOLS, GENOME_FASTA)\n",
    "    run_command(index_cmd)"
   ],
   "metadata": {
    "collapsed": false,
    "pycharm": {
     "name": "#%%\n"
    }
   }
  },
  {
   "cell_type": "code",
   "execution_count": null,
   "outputs": [],
   "source": [
    "if os.path.exists('index.log'):\n",
    "    check_cwl_command_log('index.log')"
   ],
   "metadata": {
    "collapsed": false,
    "pycharm": {
     "name": "#%%\n"
    }
   }
  },
  {
   "cell_type": "markdown",
   "metadata": {},
   "source": [
    "### Processing samples"
   ]
  },
  {
   "cell_type": "code",
   "execution_count": null,
   "metadata": {
    "pycharm": {
     "name": "#%%\n"
    }
   },
   "outputs": [],
   "source": [
    "log_file = 'alignment.log'\n",
    "working_dir(result_dir)\n",
    "alignment_yml = {\n",
    "    'genome_prefix': os.path.basename(GENOME_FASTA),\n",
    "    'threads': 10,\n",
    "    'genome_index': {'class': 'Directory', 'path': ALIGNER_INDEX },    \n",
    "    'readsquality': 30,\n",
    "    'subsample_nreads': 200000,\n",
    "    'reads': []\n",
    "}\n",
    "\n",
    "for i, r in sample_table.iterrows():\n",
    "{% if cookiecutter.sequencing_technology == 'paired-end' %}\n",
    "    files = r['file'].split('|')\n",
    "    r1 = os.path.join(DATA, DATASET, files[0])\n",
    "    r2 = os.path.join(DATA, DATASET, files[1])\n",
    "    if not os.path.exists(files[0].replace('_1.fastq.gz', '_sorted.bam')):\n",
    "        alignment_yml['reads'].append([\n",
    "            {'class': 'File', 'path': r1},\n",
    "            {'class': 'File', 'path': r2}])\n",
    "{% else %}\n",
    "    f = os.path.join(DATA, DATASET, r['file'])\n",
    "    if not os.path.exists(r['file'].replace('.fastq.gz', '_sorted.bam')):\n",
    "        alignment_yml['reads'].append([\n",
    "            {'class': 'File', 'path': f}])\n",
    "{% endif %}\n",
    "if alignment_yml['reads']:\n",
    "    write_to_yaml(alignment_yml, 'alignment.yml')  \n",
    "    cmd_header = '{} {}/ChIP-Seq/chip-seq-alignment.cwl alignment.yml > {} 2>&1 &'.format(\n",
    "        CWLRUNNER, CWLWORKFLOWS, log_file)\n",
    "    run_command(cmd_header)"
   ]
  },
  {
   "cell_type": "markdown",
   "source": [
    "### Checking command output\n",
    "Execute next cell until it prints: **Run completed**"
   ],
   "metadata": {
    "collapsed": false,
    "pycharm": {
     "name": "#%% md\n"
    }
   }
  },
  {
   "cell_type": "code",
   "execution_count": null,
   "outputs": [],
   "source": [
    "check_cwl_command_log(log_file)"
   ],
   "metadata": {
    "collapsed": false,
    "pycharm": {
     "name": "#%%\n"
    }
   }
  },
  {
   "cell_type": "markdown",
   "metadata": {},
   "source": [
    "## Generating BAM files per condition\n",
    "\n",
    "Here we merge all BAM files generated for each condition in one single BAM file named [condition]_sorted.bam\n",
    "\n",
    "These files will be used with the output of IDR for the differential binding analysis"
   ]
  },
  {
   "cell_type": "code",
   "execution_count": null,
   "metadata": {
    "pycharm": {
     "name": "#%%\n"
    }
   },
   "outputs": [],
   "source": [
    "log_file = 'merge.log'\n",
    "\n",
    "merge_yml = {\n",
    "    'bams': [],\n",
    "    'out_bam': []    \n",
    "}\n",
    "\n",
    "for c in sample_table['condition'].unique():\n",
    "    if not os.path.exists(c + '_sorted.bam'):\n",
    "        ids = sample_table[sample_table['condition'] == c]['sample_name']\n",
    "        if len(ids) > 1:            \n",
    "            bams = []\n",
    "            for s in ids:\n",
    "                s = os.path.join(result_dir, s + '_sorted.bam')\n",
    "                bams.append({'class': 'File', 'path': s})\n",
    "            if bams:\n",
    "                merge_yml['bams'].append(bams)\n",
    "                merge_yml['out_bam'].append(c + '_sorted.bam')\n",
    "\n",
    "if merge_yml['bams']:\n",
    "    write_to_yaml(merge_yml, 'merge.yml')\n",
    "    cmd_header = '{} {}/File-formats/merge-bam-parallel.cwl merge.yml > {} 2>&1 &'.format(\n",
    "        CWLRUNNER, CWLWORKFLOWS, log_file)\n",
    "    run_command(cmd_header)"
   ]
  },
  {
   "cell_type": "markdown",
   "source": [
    "### Checking command output\n",
    "Execute next cell until it prints: **Run completed**"
   ],
   "metadata": {
    "collapsed": false,
    "pycharm": {
     "name": "#%% md\n"
    }
   }
  },
  {
   "cell_type": "code",
   "execution_count": null,
   "outputs": [],
   "source": [
    "check_cwl_command_log(log_file)"
   ],
   "metadata": {
    "collapsed": false,
    "pycharm": {
     "name": "#%%\n"
    }
   }
  },
  {
   "cell_type": "markdown",
   "metadata": {},
   "source": [
    "### Generating pooled tagAlign from replicates"
   ]
  },
  {
   "cell_type": "code",
   "execution_count": null,
   "metadata": {
    "pycharm": {
     "name": "#%%\n"
    }
   },
   "outputs": [],
   "source": [
    "log_suffix = 'R0.log'\n",
    "log_files = []\n",
    "\n",
    "for c in sample_table['condition'].unique():\n",
    "    ids = sample_table[sample_table['condition'] == c]['sample_name']\n",
    "    if len(ids) > 1:\n",
    "        cmd_header = 'zcat '\n",
    "        for s in ids:\n",
    "            s = os.path.join(result_dir, s + '_sorted.tagAlign.gz')\n",
    "            cmd_header = '{0} {1}'.format(cmd_header, s)\n",
    "        run_command('{0} | gzip -n > {1}_R0.tagAlign.gz 2> {1}_{2}\\n'.format(cmd_header, c , log_suffix))  \n",
    "        log_files.append('{0}_{1}'.format(c , log_suffix))\n",
    "\n",
    "if log_files:\n",
    "    all_good = True\n",
    "    for l in log_files:\n",
    "        if os.stat(l).st_size != 0:\n",
    "            print('Error in file: ' + l)\n",
    "            all_good = False\n",
    "    if all_good:\n",
    "        print('Pooled tagAlign files created correctly')"
   ]
  }
 ],
 "metadata": {
  "kernelspec": {
   "display_name": "Python 3",
   "language": "python",
   "name": "python3"
  },
  "language_info": {
   "codemirror_mode": {
    "name": "ipython",
    "version": 3
   },
   "file_extension": ".py",
   "mimetype": "text/x-python",
   "name": "python",
   "nbconvert_exporter": "python",
   "pygments_lexer": "ipython3",
   "version": "3.7.3"
  },
  "pycharm": {
   "stem_cell": {
    "cell_type": "raw",
    "source": [],
    "metadata": {
     "collapsed": false
    }
   }
  }
 },
 "nbformat": 4,
 "nbformat_minor": 2
}