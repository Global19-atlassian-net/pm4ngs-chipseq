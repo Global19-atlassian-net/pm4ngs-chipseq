{
 "cells": [
  {
   "cell_type": "markdown",
   "metadata": {},
   "source": [
    "# Project Report\n",
    " \n",
    "__Project Name__: {{ cookiecutter.project_name }}  \n",
    "__Dataset Name__: {{ cookiecutter.dataset_name }}  \n",
    "__Author__: {{ cookiecutter.author_name }}  \n",
    "__Email__: {{ cookiecutter.email }}  \n",
    "__Dataset__: {{ cookiecutter.dataset_name }}  \n",
    "__Created Date__: {% now 'local', '%d/%m/%Y' %}  \n",
    "\n",
    "## Outline\n",
    "\n",
    "This is a Differential Binding Analysis workflow for ChIP-Seq data\n",
    "\n",
    "Our workflow is based on a set of Jupyter Notebooks and [CWL workflows](https://github.com/ncbi/cwl-ngs-workflows-cbb). \n",
    "The workflows excuted the analysis using the following tools: \n",
    "\n",
    " * FastQC, for pre-processing quality control\n",
    " * Trimmomatic, for reads trimming\n",
    " * BWA, for reads alignment\n",
    " * Phantompeakqualtools, for ChIP-Seq quality control\n",
    " * MACS2, for peak calling\n",
    " * IDR, for Irreproducible Discovery Rate (IDR) peak classification\n",
    " * Homer, for peak annotation\n",
    " * Diffbind for Differential binding analysis \n",
    "\n",
    "### Workflow  steps\n",
    "\n",
    "\n",
    " 1. [Pre-processing QC](#1.-Pre-processing-QC)\n",
    " 2. [Trimming](#2.-Trimming)\n",
    " 3. [Alignments and Quantification](#3.-Alignments-and-Quantification)\n",
    "     - [Alignment Quality Control](#3.1.-Alignment-QC)\n",
    " 4. [Peak Calling](#4.-Peak-Calling)\n",
    "     - [Irreproducible Discovery Rate](#4.1.-Irreproducible-Discovery-Rate) \n",
    " 5. [Differential binding Detection](#5.-Differential-binding-Detection)\n",
    "\n",
    "### Requirements\n",
    "\n",
    " 1. PM4NGS\n",
    " 2. Poppler (https://poppler.freedesktop.org/)\n",
    " 3. Full list of requirements *requirements/conda-env-dependencies.yaml*\n",
    "{% if cookiecutter.use_docker == 'y' %}\n",
    " 4. Docker\n",
    "{% endif %}   "
   ]
  },
  {
   "cell_type": "code",
   "execution_count": null,
   "metadata": {
    "pycharm": {
     "name": "#%%\n"
    }
   },
   "outputs": [],
   "source": [
    "%run ../config/init.py\n",
    "from pm4ngs.jupyterngsplugin.markdown.fastqc import fastqc_table, fastqc_trimmomatic_table\n",
    "from pm4ngs.jupyterngsplugin.markdown.alignment import alignment_table\n",
    "from pm4ngs.jupyterngsplugin.markdown.alignment import reads_distribution_plot\n",
    "from pm4ngs.jupyterngsplugin.markdown.phantompeakqualtools import qc_table\n",
    "from pm4ngs.jupyterngsplugin.markdown.chipseq import peak_calling_table_with_qc\n",
    "from pm4ngs.jupyterngsplugin.markdown.chipseq import idr_table\n",
    "from pm4ngs.jupyterngsplugin.markdown.chipseq import diffbind_table\n",
    "from pm4ngs.jupyterngsplugin.markdown.utils import hide_code_str\n",
    "from pm4ngs.jupyterngsplugin.markdown.utils import info_table\n",
    "from pm4ngs.jupyterngsplugin.utils.notebook import save_2_html\n",
    "HTML(hide_code_str())"
   ]
  },
  {
   "cell_type": "markdown",
   "metadata": {},
   "source": [
    "## 1. Pre-processing QC"
   ]
  },
  {
   "cell_type": "code",
   "execution_count": null,
   "metadata": {
    "pycharm": {
     "name": "#%%\n"
    }
   },
   "outputs": [],
   "source": [
    "data_dir = os.path.join(DATA, DATASET)\n",
    "os.chdir(data_dir)\n",
    "samples = [ f.replace('.fastq.gz','') for ds,dr,fs in os.walk('./') for f in fs if f.endswith('.fastq.gz')]\n",
    "samples.sort()\n",
    "\n",
    "os.chdir(NOTEBOOKS)\n",
    "display(Markdown(info_table('01 - Pre-processing QC', data_dir)))\n",
    "\n",
    "str_msg = '#### FastQC report\\n'\n",
    "display(Markdown(str_msg))\n",
    "samples_data, str_msg =  fastqc_table(samples, \n",
    "                                      os.path.join(DATA, DATASET),\n",
    "                                      os.path.join(DATA, DATASET))\n",
    "display(Markdown(str_msg))\n",
    "del str_msg"
   ]
  },
  {
   "cell_type": "markdown",
   "metadata": {
    "pycharm": {
     "name": "#%% md\n"
    }
   },
   "source": [
    "## 2. Trimming"
   ]
  },
  {
   "cell_type": "code",
   "execution_count": null,
   "metadata": {
    "pycharm": {
     "name": "#%%\n"
    }
   },
   "outputs": [],
   "source": [
    "os.chdir(NOTEBOOKS)\n",
    "result_dir = os.path.join(RESULTS, DATASET, 'trimmomatic')\n",
    "display(Markdown(info_table('02 - Samples trimming', result_dir)))\n",
    "\n",
    "samples_data, str_msg =  fastqc_trimmomatic_table(samples_data, samples, result_dir)\n",
    "display(Markdown(str_msg))\n",
    "del str_msg"
   ]
  },
  {
   "cell_type": "markdown",
   "source": [
    "## 3. Alignments and Quantification"
   ],
   "metadata": {
    "collapsed": false
   }
  },
  {
   "cell_type": "code",
   "execution_count": null,
   "outputs": [],
   "source": [
    "os.chdir(NOTEBOOKS)\n",
    "result_dir = os.path.join(RESULTS, DATASET, 'alignments')\n",
    "display(Markdown(info_table('03 - Alignments and Quantification', result_dir)))\n",
    "display(Markdown('### Reference genome\\n**{{ cookiecutter.genome_name }}**\\n\\n'))\n",
    "sample_table_file = os.path.join(DATA, DATASET, 'sample_table.csv')\n",
    "sample_table = pandas.read_csv(sample_table_file, keep_default_na=False)\n",
    "samples = sample_table['sample_name'].unique()\n",
    "{% if cookiecutter.sequencing_technology == 'paired-end' %}\n",
    "method = 'BWA_paired'\n",
    "{% else %}\n",
    "method = 'BWA_single'\n",
    "{% endif %}\n",
    "\n",
    "samples_data, str_msg =  alignment_table(samples_data, samples, result_dir, method) \n",
    "display(Markdown(str_msg))\n",
    "del str_msg"
   ],
   "metadata": {
    "collapsed": false,
    "pycharm": {
     "name": "#%%\n"
    }
   }
  },
  {
   "cell_type": "markdown",
   "source": [
    "### Distribution of Reads"
   ],
   "metadata": {
    "collapsed": false
   }
  },
  {
   "cell_type": "code",
   "execution_count": null,
   "outputs": [],
   "source": [
    "reads_distribution_plot(samples_data, samples,(18,6), method)\n",
    "plt.show()\n",
    "plt.close()"
   ],
   "metadata": {
    "collapsed": false,
    "pycharm": {
     "name": "#%%\n"
    }
   }
  },
  {
   "cell_type": "markdown",
   "source": [
    "## 3.1. Alignment QC\n",
    "\n",
    "### Phantompeakqualtools\n",
    "\n",
    "See https://github.com/kundajelab/phantompeakqualtools for more detailed info about the Phantompeakqualtools parameters"
   ],
   "metadata": {
    "collapsed": false,
    "pycharm": {
     "name": "#%% md\n"
    }
   }
  },
  {
   "cell_type": "code",
   "execution_count": null,
   "outputs": [],
   "source": [
    "str_msg =  qc_table(samples, os.path.join(RESULTS, DATASET, 'alignments'), 450, 450)\n",
    "display(Markdown(str_msg))\n",
    "del str_msg"
   ],
   "metadata": {
    "collapsed": false,
    "pycharm": {
     "name": "#%%\n"
    }
   }
  },
  {
   "cell_type": "markdown",
   "source": [
    "## 4. Peak Calling\n",
    "### Phantompeakqualtools savp PDF plots with MACS2 identified peaks for pooled samples"
   ],
   "metadata": {
    "collapsed": false
   }
  },
  {
   "cell_type": "code",
   "execution_count": null,
   "metadata": {
    "pycharm": {
     "name": "#%%\n"
    }
   },
   "outputs": [],
   "source": [
    "img_size = 250\n",
    "os.chdir(NOTEBOOKS)\n",
    "result_dir = os.path.join(RESULTS, DATASET, 'peak-calling')\n",
    "display(Markdown(info_table('04 - Peak Calling and IDR', result_dir)))\n",
    "\n",
    "alignment_path = os.path.join(RESULTS, DATASET, 'alignments')\n",
    "str_msg = peak_calling_table_with_qc(sample_table, alignment_path, result_dir, img_size, img_size)\n",
    "display(Markdown(str_msg))\n",
    "del str_msg"
   ]
  },
  {
   "cell_type": "markdown",
   "metadata": {},
   "source": [
    "## 4.1. Irreproducible Discovery Rate"
   ]
  },
  {
   "cell_type": "code",
   "execution_count": null,
   "metadata": {
    "pycharm": {
     "name": "#%%\n"
    }
   },
   "outputs": [],
   "source": [
    "os.chdir(NOTEBOOKS)\n",
    "img_size = 450\n",
    "str_msg = idr_table(sample_table, os.path.join(RESULTS, DATASET, 'idr'), img_size, img_size)\n",
    "display(Markdown(str_msg))\n",
    "del str_msg"
   ]
  },
  {
   "cell_type": "markdown",
   "metadata": {},
   "source": [
    "## 5. Differential binding Detection"
   ]
  },
  {
   "cell_type": "code",
   "execution_count": null,
   "metadata": {
    "pycharm": {
     "name": "#%%\n"
    }
   },
   "outputs": [],
   "source": [
    "os.chdir(NOTEBOOKS)\n",
    "result_dir = os.path.join(RESULTS, DATASET, 'diffbind')\n",
    "display(Markdown(info_table('05 - Differential binding Detection', result_dir)))\n",
    "\n",
    "img_size = 450\n",
    "result_dir = os.path.join(RESULTS, DATASET, 'diffbind')\n",
    "str_msg = diffbind_table(sample_table, result_dir, img_size, img_size)\n",
    "display(Markdown(str_msg))\n",
    "del str_msg"
   ]
  },
  {
   "cell_type": "code",
   "execution_count": null,
   "metadata": {
    "pycharm": {
     "name": "#%%\n"
    }
   },
   "outputs": [],
   "source": [
    "os.chdir(NOTEBOOKS)\n",
    "save_2_html(\"00 - Project Report.ipynb\")"
   ]
  }
 ],
 "metadata": {
  "kernelspec": {
   "display_name": "Python 3",
   "language": "python",
   "name": "python3"
  },
  "language_info": {
   "codemirror_mode": {
    "name": "ipython",
    "version": 3
   },
   "file_extension": ".py",
   "mimetype": "text/x-python",
   "name": "python",
   "nbconvert_exporter": "python",
   "pygments_lexer": "ipython3",
   "version": "3.7.3"
  },
  "pycharm": {
   "stem_cell": {
    "cell_type": "raw",
    "source": [],
    "metadata": {
     "collapsed": false
    }
   }
  }
 },
 "nbformat": 4,
 "nbformat_minor": 2
}