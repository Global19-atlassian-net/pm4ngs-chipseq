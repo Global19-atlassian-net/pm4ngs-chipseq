{
 "cells": [
  {
   "cell_type": "code",
   "execution_count": null,
   "metadata": {},
   "outputs": [],
   "source": [
    "%run ../config/init.py"
   ]
  },
  {
   "cell_type": "markdown",
   "metadata": {
    "pycharm": {
     "name": "#%% md\n"
    }
   },
   "source": [
    "### Creating results folders"
   ]
  },
  {
   "cell_type": "code",
   "execution_count": null,
   "outputs": [],
   "source": [
    "data_dir = os.path.join(RESULTS, DATASET, 'alignments')\n",
    "result_dir = working_dir(os.path.join(RESULTS, DATASET, 'peak-calling'))\n",
    "sample_table_file = os.path.join(DATA, DATASET, 'sample_table.csv')\n",
    "sample_table = pandas.read_csv(sample_table_file, keep_default_na=False)\n",
    "sample_table.head()"
   ],
   "metadata": {
    "collapsed": false,
    "pycharm": {
     "name": "#%%\n"
    }
   }
  },
  {
   "cell_type": "markdown",
   "source": [
    "### Peak Calling with MACS2"
   ],
   "metadata": {
    "collapsed": false,
    "pycharm": {
     "name": "#%% md\n"
    }
   }
  },
  {
   "cell_type": "code",
   "execution_count": null,
   "outputs": [],
   "source": [
    "log_file = 'peak_calling.log'\n",
    "\n",
    "peakcalling_yml = {\n",
    "    'genome_fasta': {'class': 'File', 'path': GENOME_FASTA },\n",
    "    'genome_gtf': {'class': 'File', 'path': GENOME_GTF },\n",
    "    'genome_name': GENOME_NAME,\n",
    "    'macs_callpeaks_g': GENOME_MAPPABLE_SIZE,    \n",
    "    'macs_callpeaks_q': fdr,\n",
    "    'nomodel': True,\n",
    "    'tagAlign_gz': []\n",
    "}\n",
    "\n",
    "for c in sample_table['condition'].unique():\n",
    "    if not os.path.exists(c + '_R0_peaks.narrowPeak'):\n",
    "        r = os.path.join(data_dir, c + '_R0.tagAlign.gz')\n",
    "        peakcalling_yml['tagAlign_gz'].append({'class': 'File', 'path': r})\n",
    "        \n",
    "for s in sample_table['sample_name'].unique():\n",
    "    if not os.path.exists(s + '_sorted_peaks.narrowPeak'):\n",
    "        r = os.path.join(data_dir, s + '_sorted.tagAlign.gz')\n",
    "        peakcalling_yml['tagAlign_gz'].append({'class': 'File', 'path': r})\n",
    "\n",
    "if peakcalling_yml['tagAlign_gz']:\n",
    "    write_to_yaml(peakcalling_yml, 'peakcalling.yml')  \n",
    "    cmd_header = '{} {}/ChIP-Seq/peak-calling-MACS2.cwl peakcalling.yml > {} 2>&1 &'.format(\n",
    "        CWLRUNNER, CWLWORKFLOWS, log_file)\n",
    "    run_command(cmd_header)"
   ],
   "metadata": {
    "collapsed": false,
    "pycharm": {
     "name": "#%%\n"
    }
   }
  },
  {
   "cell_type": "markdown",
   "source": [
    "### Checking command output\n",
    "Execute next cell until it prints: **Run completed**"
   ],
   "metadata": {
    "collapsed": false,
    "pycharm": {
     "name": "#%% md\n"
    }
   }
  },
  {
   "cell_type": "code",
   "execution_count": null,
   "outputs": [],
   "source": [
    "check_cwl_command_log(log_file)"
   ],
   "metadata": {
    "collapsed": false,
    "pycharm": {
     "name": "#%%\n"
    }
   }
  },
  {
   "cell_type": "markdown",
   "source": [
    "###  Irreproducible Discovery Rate (IDR)"
   ],
   "metadata": {
    "collapsed": false,
    "pycharm": {
     "name": "#%% md\n"
    }
   }
  },
  {
   "cell_type": "code",
   "execution_count": null,
   "outputs": [],
   "source": [
    "log_file = 'idr.log'\n",
    "data_dir = os.path.join(RESULTS, DATASET, 'peak-calling')\n",
    "working_dir(os.path.join(RESULTS, DATASET, 'idr'))\n",
    "\n",
    "idr_yml = {\n",
    "    'soft_idr_threshold': 0.05,\n",
    "    'input_file_type': 'narrowPeak',\n",
    "    'genome_fasta': {'class': 'File', 'path': GENOME_FASTA },\n",
    "    'genome_gtf': {'class': 'File', 'path': GENOME_GTF },\n",
    "    'pooled_peak_list': [],\n",
    "    'narrowpeaks': [],\n",
    "    'output_file': []\n",
    "}\n",
    "\n",
    "for c in sample_table['condition'].unique():    \n",
    "    ids = sample_table[sample_table['condition'] == c]['sample_name']\n",
    "    narrowpeaks = []\n",
    "    for s in ids:\n",
    "        s = os.path.join(data_dir, s + '_sorted_peaks.narrowPeak')\n",
    "        narrowpeaks.append({'class': 'File', 'path': s})\n",
    "    if samples:\n",
    "        pooled = os.path.join(data_dir, c + '_R0_peaks.narrowPeak') \n",
    "        idr_yml['pooled_peak_list'].append({'class': 'File', 'path': pooled})\n",
    "        idr_yml['output_file'].append(c + '.narrowPeak')\n",
    "        idr_yml['narrowpeaks'].append(narrowpeaks)\n",
    "        \n",
    "if idr_yml['narrowpeaks']:\n",
    "    write_to_yaml(idr_yml, 'idr.yml')  \n",
    "    cmd_header = '{} {}/ChIP-Seq/idr.cwl idr.yml > {} 2>&1 &'.format(\n",
    "        CWLRUNNER, CWLWORKFLOWS, log_file)\n",
    "    run_command(cmd_header)"
   ],
   "metadata": {
    "collapsed": false,
    "pycharm": {
     "name": "#%%\n"
    }
   }
  },
  {
   "cell_type": "markdown",
   "source": [
    "### Checking command output\n",
    "Execute next cell until it prints: **Run completed**"
   ],
   "metadata": {
    "collapsed": false
   }
  },
  {
   "cell_type": "code",
   "execution_count": null,
   "outputs": [],
   "source": [
    "check_cwl_command_log(log_file)\n"
   ],
   "metadata": {
    "collapsed": false,
    "pycharm": {
     "name": "#%%\n"
    }
   }
  }
 ],
 "metadata": {
  "kernelspec": {
   "display_name": "Python 3",
   "language": "python",
   "name": "python3"
  },
  "language_info": {
   "codemirror_mode": {
    "name": "ipython",
    "version": 3
   },
   "file_extension": ".py",
   "mimetype": "text/x-python",
   "name": "python",
   "nbconvert_exporter": "python",
   "pygments_lexer": "ipython3",
   "version": "3.7.3"
  },
  "pycharm": {
   "stem_cell": {
    "cell_type": "raw",
    "source": [],
    "metadata": {
     "collapsed": false
    }
   }
  }
 },
 "nbformat": 4,
 "nbformat_minor": 1
}