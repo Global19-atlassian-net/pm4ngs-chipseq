{
 "cells": [
  {
   "cell_type": "code",
   "execution_count": null,
   "metadata": {
    "pycharm": {
     "name": "#%%\n"
    }
   },
   "outputs": [],
   "source": [
    "%run ../config/init.py"
   ]
  },
  {
   "cell_type": "markdown",
   "metadata": {},
   "source": [
    "### Creating results folders"
   ]
  },
  {
   "cell_type": "code",
   "execution_count": null,
   "outputs": [],
   "source": [
    "bam_dir = os.path.join(RESULTS, DATASET, 'alignments')\n",
    "bed_dir = os.path.join(RESULTS, DATASET, 'peak-calling')\n",
    "result_dir = working_dir(os.path.join(RESULTS, DATASET, 'diffbind'))\n",
    "sample_table_file = os.path.join(DATA, DATASET, 'sample_table.csv')\n",
    "sample_table = pandas.read_csv(sample_table_file, keep_default_na=False)\n",
    "sample_table.head()"
   ],
   "metadata": {
    "collapsed": false,
    "pycharm": {
     "name": "#%%\n"
    }
   }
  },
  {
   "cell_type": "markdown",
   "source": [
    "### Generating comparison array"
   ],
   "metadata": {
    "collapsed": false,
    "pycharm": {
     "name": "#%% md\n"
    }
   }
  },
  {
   "cell_type": "code",
   "execution_count": null,
   "outputs": [],
   "source": [
    "comparisons = []\n",
    "for s in itertools.combinations(sample_table['condition'].unique(), 2):\n",
    "    comparisons.append(list(s))\n",
    "comparisons"
   ],
   "metadata": {
    "collapsed": false,
    "pycharm": {
     "name": "#%%\n"
    }
   }
  },
  {
   "cell_type": "markdown",
   "source": [
    "### Processing samples"
   ],
   "metadata": {
    "collapsed": false,
    "pycharm": {
     "name": "#%% md\n"
    }
   }
  },
  {
   "cell_type": "code",
   "execution_count": null,
   "outputs": [],
   "source": [
    "log_file = 'diffbind.log'\n",
    "\n",
    "diffbind_yml = {\n",
    "    'peakcaller': 'narrowpeak',\n",
    "    'bamDir': {'class': 'Directory', 'path': bam_dir },\n",
    "    'bedDir': {'class': 'Directory', 'path': bed_dir },\n",
    "    'factors': [],\n",
    "    'minMembers': []\n",
    "}\n",
    "\n",
    "for c in comparisons:\n",
    "    minMembers = min(len(sample_table[sample_table['condition'] == c[0]]), len(sample_table[sample_table['condition'] == c[1]]))\n",
    "    if minMembers >= 2:        \n",
    "        comp = '{0}_vs_{1}'.format(c[0], c[1])        \n",
    "        df = sample_table[(sample_table['condition'] == c[0]) | (sample_table['condition'] == c[1])][['sample_name', 'condition', 'replicate']]\n",
    "        df = df.rename(index=str, columns={'sample_name': 'id', 'condition': 'Condition', 'replicate':'Replicate'})\n",
    "        df.to_csv(comp + '.tsv', index=None, sep='\\t')\n",
    "        diffbind_yml['factors'].append({'class': 'File', 'path': os.path.join(result_dir, comp + '.tsv')})\n",
    "        diffbind_yml['minMembers'].append(minMembers)\n",
    "\n",
    "if diffbind_yml['factors']:\n",
    "    write_to_yaml(diffbind_yml, 'diffbind.yml')  \n",
    "    cmd_header = '{} {}/ChIP-Seq/diffbind-parallel.cwl diffbind.yml > {} 2>&1 &'.format(CWLRUNNER, CWLWORKFLOWS, log_file)\n",
    "    run_command(cmd_header)"
   ],
   "metadata": {
    "collapsed": false,
    "pycharm": {
     "name": "#%%\n"
    }
   }
  },
  {
   "cell_type": "markdown",
   "source": [
    "### Checking command output\n",
    "Execute next cell until it prints: **Run completed**"
   ],
   "metadata": {
    "collapsed": false,
    "pycharm": {
     "name": "#%% md\n"
    }
   }
  },
  {
   "cell_type": "code",
   "execution_count": null,
   "outputs": [],
   "source": [
    "check_cwl_command_log(log_file)"
   ],
   "metadata": {
    "collapsed": false,
    "pycharm": {
     "name": "#%%\n"
    }
   }
  }
 ],
 "metadata": {
  "kernelspec": {
   "display_name": "Python 3",
   "language": "python",
   "name": "python3"
  },
  "language_info": {
   "codemirror_mode": {
    "name": "ipython",
    "version": 3
   },
   "file_extension": ".py",
   "mimetype": "text/x-python",
   "name": "python",
   "nbconvert_exporter": "python",
   "pygments_lexer": "ipython3",
   "version": "3.7.3"
  },
  "pycharm": {
   "stem_cell": {
    "cell_type": "raw",
    "source": [],
    "metadata": {
     "collapsed": false
    }
   }
  }
 },
 "nbformat": 4,
 "nbformat_minor": 1
}